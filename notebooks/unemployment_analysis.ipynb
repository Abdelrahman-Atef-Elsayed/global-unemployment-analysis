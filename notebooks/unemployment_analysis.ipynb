{
 "cells": [
  {
   "cell_type": "code",
   "execution_count": 1,
   "id": "a9b40f5f",
   "metadata": {},
   "outputs": [
    {
     "name": "stdout",
     "output_type": "stream",
     "text": [
      "<class 'pandas.core.frame.DataFrame'>\n",
      "RangeIndex: 8282 entries, 0 to 8281\n",
      "Data columns (total 11 columns):\n",
      " #   Column                Non-Null Count  Dtype  \n",
      "---  ------                --------------  -----  \n",
      " 0   ref_area.label        8282 non-null   object \n",
      " 1   source.label          8282 non-null   object \n",
      " 2   indicator.label       8282 non-null   object \n",
      " 3   sex.label             8282 non-null   object \n",
      " 4   classif1.label        8282 non-null   object \n",
      " 5   time                  8282 non-null   int64  \n",
      " 6   obs_value             7921 non-null   float64\n",
      " 7   obs_status.label      1371 non-null   object \n",
      " 8   note_classif.label    1665 non-null   object \n",
      " 9   note_indicator.label  629 non-null    object \n",
      " 10  note_source.label     8264 non-null   object \n",
      "dtypes: float64(1), int64(1), object(9)\n",
      "memory usage: 711.9+ KB\n"
     ]
    },
    {
     "data": {
      "text/plain": [
       "ref_area.label             0\n",
       "source.label               0\n",
       "indicator.label            0\n",
       "sex.label                  0\n",
       "classif1.label             0\n",
       "time                       0\n",
       "obs_value                361\n",
       "obs_status.label        6911\n",
       "note_classif.label      6617\n",
       "note_indicator.label    7653\n",
       "note_source.label         18\n",
       "dtype: int64"
      ]
     },
     "execution_count": 1,
     "metadata": {},
     "output_type": "execute_result"
    }
   ],
   "source": [
    "import pandas as pd\n",
    "import matplotlib.pyplot as plt\n",
    "import seaborn as sns\n",
    "\n",
    "df = pd.read_csv(\"../data/unemployment_rate_annual.csv\")\n",
    "df.head()\n",
    "df.info()\n",
    "df.describe()\n",
    "df.isnull().sum()\n"
   ]
  }
 ],
 "metadata": {
  "kernelspec": {
   "display_name": "Python 3",
   "language": "python",
   "name": "python3"
  },
  "language_info": {
   "codemirror_mode": {
    "name": "ipython",
    "version": 3
   },
   "file_extension": ".py",
   "mimetype": "text/x-python",
   "name": "python",
   "nbconvert_exporter": "python",
   "pygments_lexer": "ipython3",
   "version": "3.12.3"
  }
 },
 "nbformat": 4,
 "nbformat_minor": 5
}
